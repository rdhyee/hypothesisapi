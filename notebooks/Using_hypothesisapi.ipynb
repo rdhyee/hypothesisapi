{
 "cells": [
  {
   "cell_type": "code",
   "execution_count": null,
   "metadata": {
    "collapsed": true,
    "deletable": true,
    "editable": true
   },
   "outputs": [],
   "source": [
    "%matplotlib inline"
   ]
  },
  {
   "cell_type": "code",
   "execution_count": null,
   "metadata": {
    "collapsed": true,
    "deletable": true,
    "editable": true
   },
   "outputs": [],
   "source": [
    "try:\n",
    "    from urllib.parse import urlparse\n",
    "except ImportError:\n",
    "    from urlparse import urlparse"
   ]
  },
  {
   "cell_type": "code",
   "execution_count": null,
   "metadata": {
    "collapsed": true,
    "deletable": true,
    "editable": true
   },
   "outputs": [],
   "source": [
    "import json\n",
    "\n",
    "def jpprint(j):\n",
    "    return json.dumps(j, indent=4, sort_keys=True)\n"
   ]
  },
  {
   "cell_type": "markdown",
   "metadata": {
    "deletable": true,
    "editable": true
   },
   "source": [
    "# NEW STUFF\n",
    "\n",
    "https://h.readthedocs.io/en/latest/api/#"
   ]
  },
  {
   "cell_type": "code",
   "execution_count": null,
   "metadata": {
    "collapsed": false,
    "deletable": true,
    "editable": true
   },
   "outputs": [],
   "source": [
    "from hypothesis_settings import (USERNAME, TOKEN)\n",
    "\n",
    "import requests\n",
    "API_URL = \"https://hypothes.is/api\"\n",
    "\n",
    "\n",
    "# search rdhyee \n",
    "headers = {'Authorization': 'Bearer ' + TOKEN, 'Content-Type': 'application/json;charset=utf-8' }\n",
    "params = {'user': 'rdhyee@hypothes.is'}\n",
    "\n",
    "\n",
    "r = requests.get(API_URL + \"/search\", headers=headers, params=params)\n",
    "\n",
    "print(jpprint(r.json()))\n",
    "\n",
    "# GET /api\n",
    "# Host: hypothes.is\n",
    "# Accept: application/json"
   ]
  },
  {
   "cell_type": "markdown",
   "metadata": {
    "deletable": true,
    "editable": true
   },
   "source": [
    "# OLD STUFF"
   ]
  },
  {
   "cell_type": "code",
   "execution_count": null,
   "metadata": {
    "collapsed": true,
    "deletable": true,
    "editable": true
   },
   "outputs": [],
   "source": [
    "# package up logic in a package\n",
    "from hypothesisapi import API\n",
    "\n",
    "# include your hypothes.is USERNAME, PASSWORD as parameters in a hypothesis_settings.py file in your sys.path\n",
    "# get token from https://hypothes.is/profile/developer\n",
    "from hypothesis_settings import (USERNAME, TOKEN)\n",
    "\n",
    "h_api = API(USERNAME, TOKEN)\n"
   ]
  },
  {
   "cell_type": "code",
   "execution_count": null,
   "metadata": {
    "collapsed": true,
    "deletable": true,
    "editable": true
   },
   "outputs": [],
   "source": [
    "# https://hypothes.is/a/8qXlSF8gTQmeh29v1XoErg\n",
    "# https://via.hypothes.is/http://www.meetup.com/SFOpenAnnotation/events/221577503/\n",
    "# http://www.meetup.com/SFOpenAnnotation/events/221577503/\n",
    "# http://www.webcitation.org/6Y2WtcAUJ\n",
    "\n",
    "annotation_id = \"8qXlSF8gTQmeh29v1XoErg\"\n",
    "rows = h_api.search_id(annotation_id)\n",
    "rows"
   ]
  },
  {
   "cell_type": "code",
   "execution_count": null,
   "metadata": {
    "collapsed": true,
    "deletable": true,
    "editable": true
   },
   "outputs": [],
   "source": [
    "# Looking for the type of data fields in the annotations. (here: For rdhyee as rdhyee)\n",
    "\n",
    "from itertools import islice\n",
    "from collections import Counter\n",
    "\n",
    "key_count = Counter()\n",
    "\n",
    "for (i,row) in enumerate(islice(h_api.search(user='rdhyee', offset=0),None)):\n",
    "    key_count.update(row.keys())\n",
    "\n",
    "key_count"
   ]
  },
  {
   "cell_type": "code",
   "execution_count": null,
   "metadata": {
    "collapsed": true,
    "deletable": true,
    "editable": true
   },
   "outputs": [],
   "source": [
    "h_api.get_annotation(annotation_id)"
   ]
  },
  {
   "cell_type": "markdown",
   "metadata": {
    "collapsed": true,
    "deletable": true,
    "editable": true
   },
   "source": [
    "# Annotations\n",
    "\n",
    "Keys that seem to be present in all annotations:\n",
    "\n",
    "* id\n",
    "* created\n",
    "* updated\n",
    "* uri\n",
    "* permissions\n",
    "* user\n",
    "* consumer"
   ]
  },
  {
   "cell_type": "code",
   "execution_count": null,
   "metadata": {
    "collapsed": true,
    "deletable": true,
    "editable": true
   },
   "outputs": [],
   "source": [
    "a0 = rows['rows'][0]\n",
    "(a0['id'], a0['created'], a0['updated'], a0['uri'], a0['permissions'], a0['user'], a0['consumer'])"
   ]
  },
  {
   "cell_type": "code",
   "execution_count": null,
   "metadata": {
    "collapsed": true,
    "deletable": true,
    "editable": true
   },
   "outputs": [],
   "source": [
    "# for the annotation for the meetup\n",
    "\n",
    "a0.keys()"
   ]
  },
  {
   "cell_type": "code",
   "execution_count": null,
   "metadata": {
    "collapsed": true,
    "deletable": true,
    "editable": true
   },
   "outputs": [],
   "source": [
    "a0['document']"
   ]
  },
  {
   "cell_type": "code",
   "execution_count": null,
   "metadata": {
    "collapsed": true,
    "deletable": true,
    "editable": true
   },
   "outputs": [],
   "source": [
    "a0['target']"
   ]
  },
  {
   "cell_type": "markdown",
   "metadata": {
    "collapsed": true,
    "deletable": true,
    "editable": true
   },
   "source": [
    "# Analyzing rdhyee's annotations"
   ]
  },
  {
   "cell_type": "code",
   "execution_count": null,
   "metadata": {
    "collapsed": true,
    "deletable": true,
    "editable": true
   },
   "outputs": [],
   "source": [
    "import numpy as np\n",
    "import pandas as pd\n",
    "from pandas import (DataFrame, Series)\n",
    "import matplotlib.pyplot as plt"
   ]
  },
  {
   "cell_type": "code",
   "execution_count": null,
   "metadata": {
    "collapsed": false,
    "deletable": true,
    "editable": true
   },
   "outputs": [],
   "source": [
    "# package up logic in a package\n",
    "from hypothesisapi import API\n",
    "\n",
    "# include your hypothes.is USERNAME, PASSWORD as parameters in a hypothesis_settings.py file in your sys.path\n",
    "from hypothesis_settings import (USERNAME, TOKEN)\n",
    "\n",
    "h_api = API(USERNAME, TOKEN)\n",
    "h_api.login()\n",
    "\n",
    "rdhyee_annotations = list(h_api.search(user='rdhyee', offset=0, ))\n",
    "len(rdhyee_annotations)"
   ]
  },
  {
   "cell_type": "code",
   "execution_count": null,
   "metadata": {
    "collapsed": true,
    "deletable": true,
    "editable": true
   },
   "outputs": [],
   "source": [
    "df = DataFrame(rdhyee_annotations)\n",
    "df.head()"
   ]
  },
  {
   "cell_type": "code",
   "execution_count": null,
   "metadata": {
    "collapsed": true,
    "deletable": true,
    "editable": true
   },
   "outputs": [],
   "source": [
    "import datetime\n",
    "import dateutil\n",
    "\n",
    "s = df.created.apply(dateutil.parser.parse).apply(lambda d: (d.year, d.month)).value_counts()\n",
    "s"
   ]
  },
  {
   "cell_type": "code",
   "execution_count": null,
   "metadata": {
    "collapsed": true,
    "deletable": true,
    "editable": true
   },
   "outputs": [],
   "source": [
    "(s.sort_index(ascending=True).plot(kind='bar', color='green', # x='year/month', y='# of annotations'\n",
    "                                  ))"
   ]
  },
  {
   "cell_type": "code",
   "execution_count": null,
   "metadata": {
    "collapsed": true,
    "deletable": true,
    "editable": true
   },
   "outputs": [],
   "source": [
    "# get domain of uri\n",
    "\n",
    "df.uri.apply(lambda url: urlparse(url)[1]).value_counts()"
   ]
  },
  {
   "cell_type": "code",
   "execution_count": null,
   "metadata": {
    "collapsed": true,
    "deletable": true,
    "editable": true
   },
   "outputs": [],
   "source": [
    "df.sort_index(by='created', ascending=True)\n"
   ]
  },
  {
   "cell_type": "markdown",
   "metadata": {
    "collapsed": true,
    "deletable": true,
    "editable": true
   },
   "source": [
    "# using Jon's library"
   ]
  },
  {
   "cell_type": "code",
   "execution_count": null,
   "metadata": {
    "collapsed": true,
    "deletable": true,
    "editable": true
   },
   "outputs": [],
   "source": [
    "from hypothesis_settings import (USERNAME, TOKEN)\n",
    "from Hypothes_is import Hypothesis, HypothesisAnnotation"
   ]
  },
  {
   "cell_type": "code",
   "execution_count": null,
   "metadata": {
    "collapsed": true,
    "deletable": true,
    "editable": true
   },
   "outputs": [],
   "source": [
    "h = Hypothesis(USERNAME, TOKEN, max_results)"
   ]
  },
  {
   "cell_type": "code",
   "execution_count": null,
   "metadata": {
    "collapsed": false,
    "deletable": true,
    "editable": true
   },
   "outputs": [],
   "source": [
    "list(h.search_all({'sort':'updated', 'order':'desc', 'user':'rdhyee@hypothes.is', 'limit':1}))"
   ]
  },
  {
   "cell_type": "code",
   "execution_count": null,
   "metadata": {
    "collapsed": true,
    "deletable": true,
    "editable": true
   },
   "outputs": [],
   "source": [
    "def test_create():\n",
    "    return (h.create_annotation_with_target_using_only_text_quote(\n",
    "       url=\"https://www.nytimes.com/2017/05/06/world/europe/france-election-emmanuel-macron-marine-le-pen.html\",\n",
    "       exact=u\"\"\"Then, barely an hour before the official close of campaigning at midnight Friday, the staff of the presumed front-runner, Emmanuel Macron, a 39-year-old former investment banker, announced that his campaign had been the target of a “massive and coordinated” hacking operation.\"\"\",\n",
    "       prefix=\"for its raw anger and insolence.\",\n",
    "       suffix=\"Internal emails and other docume\",\n",
    "       text=\"hello\",\n",
    "       tags=()\n",
    "    ))"
   ]
  },
  {
   "cell_type": "code",
   "execution_count": null,
   "metadata": {
    "collapsed": true,
    "deletable": true,
    "editable": true
   },
   "outputs": [],
   "source": [
    "r = test_create()"
   ]
  },
  {
   "cell_type": "code",
   "execution_count": null,
   "metadata": {
    "collapsed": false,
    "deletable": true,
    "editable": true
   },
   "outputs": [],
   "source": [
    "r"
   ]
  },
  {
   "cell_type": "code",
   "execution_count": null,
   "metadata": {
    "collapsed": true,
    "deletable": true,
    "editable": true
   },
   "outputs": [],
   "source": [
    "r.text"
   ]
  }
 ],
 "metadata": {
  "anaconda-cloud": {},
  "kernelspec": {
   "display_name": "Python [default]",
   "language": "python",
   "name": "python2"
  },
  "language_info": {
   "codemirror_mode": {
    "name": "ipython",
    "version": 2
   },
   "file_extension": ".py",
   "mimetype": "text/x-python",
   "name": "python",
   "nbconvert_exporter": "python",
   "pygments_lexer": "ipython2",
   "version": "2.7.13"
  }
 },
 "nbformat": 4,
 "nbformat_minor": 1
}
