{
 "cells": [
  {
   "cell_type": "code",
   "execution_count": 1,
   "metadata": {
    "collapsed": false
   },
   "outputs": [
    {
     "name": "stdout",
     "output_type": "stream",
     "text": [
      "Populating the interactive namespace from numpy and matplotlib\n"
     ]
    }
   ],
   "source": [
    "%pylab --no-import-all inline"
   ]
  },
  {
   "cell_type": "code",
   "execution_count": 2,
   "metadata": {
    "collapsed": true
   },
   "outputs": [],
   "source": [
    "from __future__ import (print_function, unicode_literals, division)"
   ]
  },
  {
   "cell_type": "code",
   "execution_count": 3,
   "metadata": {
    "collapsed": true
   },
   "outputs": [],
   "source": [
    "try:\n",
    "    from urllib.parse import urlparse\n",
    "except ImportError:\n",
    "    from urlparse import urlparse"
   ]
  },
  {
   "cell_type": "code",
   "execution_count": 4,
   "metadata": {
    "collapsed": true
   },
   "outputs": [],
   "source": [
    "from itertools import islice\n",
    "\n",
    "# package up logic in a package\n",
    "from hypothesisapi import API\n",
    "\n",
    "# include your hypothes.is USERNAME, PASSWORD as parameters in a hypothesis_settings.py file in your sys.path\n",
    "from hypothesis_settings import USERNAME, PASSWORD\n",
    "\n",
    "h_api = API(USERNAME,PASSWORD)\n",
    "h_api.login()"
   ]
  },
  {
   "cell_type": "code",
   "execution_count": 5,
   "metadata": {
    "collapsed": true
   },
   "outputs": [],
   "source": [
    "import numpy as np\n",
    "import pandas as pd\n",
    "from pandas import (DataFrame, Series)\n",
    "import matplotlib.pyplot as plt"
   ]
  },
  {
   "cell_type": "code",
   "execution_count": 6,
   "metadata": {
    "collapsed": true
   },
   "outputs": [],
   "source": [
    "# reading in all the annotations\n",
    "annotations = list(h_api.search(user='rdhyee', offset=0))"
   ]
  },
  {
   "cell_type": "code",
   "execution_count": 7,
   "metadata": {
    "collapsed": false
   },
   "outputs": [
    {
     "data": {
      "text/plain": [
       "227"
      ]
     },
     "execution_count": 7,
     "metadata": {},
     "output_type": "execute_result"
    }
   ],
   "source": [
    "len(annotations)"
   ]
  },
  {
   "cell_type": "code",
   "execution_count": 8,
   "metadata": {
    "collapsed": true
   },
   "outputs": [],
   "source": [
    "h_api.create_annotation_w_text(\"hello hypothes.is\")"
   ]
  },
  {
   "cell_type": "code",
   "execution_count": 10,
   "metadata": {
    "collapsed": false
   },
   "outputs": [
    {
     "name": "stdout",
     "output_type": "stream",
     "text": [
      "17298"
     ]
    }
   ],
   "source": [
    "# collect all the stats\n",
    "\n",
    "from itertools import islice\n",
    "\n",
    "annotations = []\n",
    "\n",
    "for (i, annot) in enumerate(islice(h_api.search(), None)):\n",
    "    print(\"\\r%d\" % i , end=\"\")\n",
    "    annotations.append(annot)"
   ]
  },
  {
   "cell_type": "code",
   "execution_count": 14,
   "metadata": {
    "collapsed": false
   },
   "outputs": [],
   "source": [
    "# write annotations out\n",
    "import json\n",
    "with open(\"annotations.json\", \"wb\") as f:\n",
    "    f.write(json.dumps(annotations))"
   ]
  },
  {
   "cell_type": "code",
   "execution_count": null,
   "metadata": {
    "collapsed": true
   },
   "outputs": [],
   "source": [
    "# read in annotations\n",
    "import json\n",
    "#annotations = json.loads(open(\"annotations.json\").read())"
   ]
  },
  {
   "cell_type": "code",
   "execution_count": 15,
   "metadata": {
    "collapsed": false
   },
   "outputs": [
    {
     "data": {
      "text/html": [
       "<div style=\"max-height:1000px;max-width:1500px;overflow:auto;\">\n",
       "<table border=\"1\" class=\"dataframe\">\n",
       "  <thead>\n",
       "    <tr style=\"text-align: right;\">\n",
       "      <th></th>\n",
       "      <th>consumer</th>\n",
       "      <th>created</th>\n",
       "      <th>deleted</th>\n",
       "      <th>document</th>\n",
       "      <th>favicon_link</th>\n",
       "      <th>highlightText</th>\n",
       "      <th>id</th>\n",
       "      <th>permissions</th>\n",
       "      <th>ranges</th>\n",
       "      <th>references</th>\n",
       "      <th>source</th>\n",
       "      <th>source_stripped</th>\n",
       "      <th>tags</th>\n",
       "      <th>target</th>\n",
       "      <th>text</th>\n",
       "      <th>title</th>\n",
       "      <th>updated</th>\n",
       "      <th>uri</th>\n",
       "      <th>user</th>\n",
       "    </tr>\n",
       "  </thead>\n",
       "  <tbody>\n",
       "    <tr>\n",
       "      <th>0</th>\n",
       "      <td>00000000-0000-0000-0000-000000000000</td>\n",
       "      <td>2013-07-09T10:39:09.321162+00:00</td>\n",
       "      <td>NaN</td>\n",
       "      <td>{u'scholar': {}, u'title': u'Imagine | Hypothe...</td>\n",
       "      <td>NaN</td>\n",
       "      <td>NaN</td>\n",
       "      <td>0kgdoTzYQuq0OzRTx6AFAw</td>\n",
       "      <td>{u'admin': [u'acct:tilgovi@hypothes.is'], u're...</td>\n",
       "      <td>NaN</td>\n",
       "      <td>[-z893IEuS5uvt2pvjV6n6Q]</td>\n",
       "      <td>NaN</td>\n",
       "      <td>NaN</td>\n",
       "      <td>NaN</td>\n",
       "      <td>[]</td>\n",
       "      <td>Okay!</td>\n",
       "      <td>NaN</td>\n",
       "      <td>2013-07-09T10:39:09.321181+00:00</td>\n",
       "      <td>http://hypothes.is/</td>\n",
       "      <td>acct:tilgovi@hypothes.is</td>\n",
       "    </tr>\n",
       "    <tr>\n",
       "      <th>1</th>\n",
       "      <td>00000000-0000-0000-0000-000000000000</td>\n",
       "      <td>2013-08-06T16:12:20.854906+00:00</td>\n",
       "      <td>NaN</td>\n",
       "      <td>{u'scholar': {}, u'title': u'Martial McLuhan I...</td>\n",
       "      <td>NaN</td>\n",
       "      <td>NaN</td>\n",
       "      <td>v3eUHkqzTQ-iwvEIB3EmPw</td>\n",
       "      <td>{u'admin': [u'acct:JakeHartnell@hypothes.is'],...</td>\n",
       "      <td>[{u'endOffset': 500, u'endContainer': u'/div[1...</td>\n",
       "      <td>NaN</td>\n",
       "      <td>NaN</td>\n",
       "      <td>NaN</td>\n",
       "      <td>[question]</td>\n",
       "      <td>[{u'source': u'http://www.enculturation.net/ma...</td>\n",
       "      <td>I missed the last couple of classes! What is i...</td>\n",
       "      <td>NaN</td>\n",
       "      <td>2013-08-06T16:12:20.854921+00:00</td>\n",
       "      <td>http://www.enculturation.net/martial-mcluhan-2</td>\n",
       "      <td>acct:JakeHartnell@hypothes.is</td>\n",
       "    </tr>\n",
       "    <tr>\n",
       "      <th>2</th>\n",
       "      <td>00000000-0000-0000-0000-000000000000</td>\n",
       "      <td>2013-08-06T16:13:01.460414+00:00</td>\n",
       "      <td>NaN</td>\n",
       "      <td>{u'scholar': {}, u'title': u'Martial McLuhan I...</td>\n",
       "      <td>NaN</td>\n",
       "      <td>NaN</td>\n",
       "      <td>lpzXzp9lSjeVJq1UCXny_Q</td>\n",
       "      <td>{u'admin': [u'acct:caseyboyle@hypothes.is'], u...</td>\n",
       "      <td>[{u'endOffset': 425, u'endContainer': u'/div[1...</td>\n",
       "      <td>NaN</td>\n",
       "      <td>NaN</td>\n",
       "      <td>NaN</td>\n",
       "      <td>[on war, battle]</td>\n",
       "      <td>[{u'source': u'http://www.enculturation.net/ma...</td>\n",
       "      <td>Test text.</td>\n",
       "      <td>NaN</td>\n",
       "      <td>2013-08-06T16:13:01.460439+00:00</td>\n",
       "      <td>http://www.enculturation.net/martial-mcluhan-2</td>\n",
       "      <td>acct:caseyboyle@hypothes.is</td>\n",
       "    </tr>\n",
       "    <tr>\n",
       "      <th>3</th>\n",
       "      <td>00000000-0000-0000-0000-000000000000</td>\n",
       "      <td>2013-08-06T16:13:07.755733+00:00</td>\n",
       "      <td>NaN</td>\n",
       "      <td>{u'scholar': {}, u'title': u'Martial McLuhan I...</td>\n",
       "      <td>NaN</td>\n",
       "      <td>NaN</td>\n",
       "      <td>48uHoGGOQCOc3esz5N6a-A</td>\n",
       "      <td>{u'admin': [u'acct:dwhly@hypothes.is'], u'read...</td>\n",
       "      <td>[{u'endOffset': 31, u'endContainer': u'/div[1]...</td>\n",
       "      <td>NaN</td>\n",
       "      <td>NaN</td>\n",
       "      <td>NaN</td>\n",
       "      <td>[whozzat]</td>\n",
       "      <td>[{u'source': u'http://www.enculturation.net/ma...</td>\n",
       "      <td>Never heard of him</td>\n",
       "      <td>NaN</td>\n",
       "      <td>2013-08-06T16:13:07.755746+00:00</td>\n",
       "      <td>http://www.enculturation.net/martial-mcluhan-2</td>\n",
       "      <td>acct:dwhly@hypothes.is</td>\n",
       "    </tr>\n",
       "    <tr>\n",
       "      <th>4</th>\n",
       "      <td>00000000-0000-0000-0000-000000000000</td>\n",
       "      <td>2013-08-06T16:13:55.544440+00:00</td>\n",
       "      <td>NaN</td>\n",
       "      <td>{u'scholar': {}, u'title': u'Martial McLuhan I...</td>\n",
       "      <td>NaN</td>\n",
       "      <td>NaN</td>\n",
       "      <td>P3D9bpyhQKK5nOz8hWJe8w</td>\n",
       "      <td>{u'admin': [u'acct:dwhly@hypothes.is'], u'read...</td>\n",
       "      <td>NaN</td>\n",
       "      <td>[lpzXzp9lSjeVJq1UCXny_Q]</td>\n",
       "      <td>NaN</td>\n",
       "      <td>NaN</td>\n",
       "      <td>NaN</td>\n",
       "      <td>[]</td>\n",
       "      <td>casey, can you explain</td>\n",
       "      <td>NaN</td>\n",
       "      <td>2013-08-06T16:13:55.544461+00:00</td>\n",
       "      <td>http://www.enculturation.net/martial-mcluhan-2</td>\n",
       "      <td>acct:dwhly@hypothes.is</td>\n",
       "    </tr>\n",
       "  </tbody>\n",
       "</table>\n",
       "</div>"
      ],
      "text/plain": [
       "                               consumer                           created  \\\n",
       "0  00000000-0000-0000-0000-000000000000  2013-07-09T10:39:09.321162+00:00   \n",
       "1  00000000-0000-0000-0000-000000000000  2013-08-06T16:12:20.854906+00:00   \n",
       "2  00000000-0000-0000-0000-000000000000  2013-08-06T16:13:01.460414+00:00   \n",
       "3  00000000-0000-0000-0000-000000000000  2013-08-06T16:13:07.755733+00:00   \n",
       "4  00000000-0000-0000-0000-000000000000  2013-08-06T16:13:55.544440+00:00   \n",
       "\n",
       "  deleted                                           document favicon_link  \\\n",
       "0     NaN  {u'scholar': {}, u'title': u'Imagine | Hypothe...          NaN   \n",
       "1     NaN  {u'scholar': {}, u'title': u'Martial McLuhan I...          NaN   \n",
       "2     NaN  {u'scholar': {}, u'title': u'Martial McLuhan I...          NaN   \n",
       "3     NaN  {u'scholar': {}, u'title': u'Martial McLuhan I...          NaN   \n",
       "4     NaN  {u'scholar': {}, u'title': u'Martial McLuhan I...          NaN   \n",
       "\n",
       "  highlightText                      id  \\\n",
       "0           NaN  0kgdoTzYQuq0OzRTx6AFAw   \n",
       "1           NaN  v3eUHkqzTQ-iwvEIB3EmPw   \n",
       "2           NaN  lpzXzp9lSjeVJq1UCXny_Q   \n",
       "3           NaN  48uHoGGOQCOc3esz5N6a-A   \n",
       "4           NaN  P3D9bpyhQKK5nOz8hWJe8w   \n",
       "\n",
       "                                         permissions  \\\n",
       "0  {u'admin': [u'acct:tilgovi@hypothes.is'], u're...   \n",
       "1  {u'admin': [u'acct:JakeHartnell@hypothes.is'],...   \n",
       "2  {u'admin': [u'acct:caseyboyle@hypothes.is'], u...   \n",
       "3  {u'admin': [u'acct:dwhly@hypothes.is'], u'read...   \n",
       "4  {u'admin': [u'acct:dwhly@hypothes.is'], u'read...   \n",
       "\n",
       "                                              ranges  \\\n",
       "0                                                NaN   \n",
       "1  [{u'endOffset': 500, u'endContainer': u'/div[1...   \n",
       "2  [{u'endOffset': 425, u'endContainer': u'/div[1...   \n",
       "3  [{u'endOffset': 31, u'endContainer': u'/div[1]...   \n",
       "4                                                NaN   \n",
       "\n",
       "                 references source source_stripped              tags  \\\n",
       "0  [-z893IEuS5uvt2pvjV6n6Q]    NaN             NaN               NaN   \n",
       "1                       NaN    NaN             NaN        [question]   \n",
       "2                       NaN    NaN             NaN  [on war, battle]   \n",
       "3                       NaN    NaN             NaN         [whozzat]   \n",
       "4  [lpzXzp9lSjeVJq1UCXny_Q]    NaN             NaN               NaN   \n",
       "\n",
       "                                              target  \\\n",
       "0                                                 []   \n",
       "1  [{u'source': u'http://www.enculturation.net/ma...   \n",
       "2  [{u'source': u'http://www.enculturation.net/ma...   \n",
       "3  [{u'source': u'http://www.enculturation.net/ma...   \n",
       "4                                                 []   \n",
       "\n",
       "                                                text title  \\\n",
       "0                                              Okay!   NaN   \n",
       "1  I missed the last couple of classes! What is i...   NaN   \n",
       "2                                        Test text.    NaN   \n",
       "3                                 Never heard of him   NaN   \n",
       "4                             casey, can you explain   NaN   \n",
       "\n",
       "                            updated  \\\n",
       "0  2013-07-09T10:39:09.321181+00:00   \n",
       "1  2013-08-06T16:12:20.854921+00:00   \n",
       "2  2013-08-06T16:13:01.460439+00:00   \n",
       "3  2013-08-06T16:13:07.755746+00:00   \n",
       "4  2013-08-06T16:13:55.544461+00:00   \n",
       "\n",
       "                                              uri  \\\n",
       "0                             http://hypothes.is/   \n",
       "1  http://www.enculturation.net/martial-mcluhan-2   \n",
       "2  http://www.enculturation.net/martial-mcluhan-2   \n",
       "3  http://www.enculturation.net/martial-mcluhan-2   \n",
       "4  http://www.enculturation.net/martial-mcluhan-2   \n",
       "\n",
       "                            user  \n",
       "0       acct:tilgovi@hypothes.is  \n",
       "1  acct:JakeHartnell@hypothes.is  \n",
       "2    acct:caseyboyle@hypothes.is  \n",
       "3         acct:dwhly@hypothes.is  \n",
       "4         acct:dwhly@hypothes.is  "
      ]
     },
     "execution_count": 15,
     "metadata": {},
     "output_type": "execute_result"
    }
   ],
   "source": [
    "df = DataFrame(annotations)\n",
    "df.head()"
   ]
  },
  {
   "cell_type": "code",
   "execution_count": 16,
   "metadata": {
    "collapsed": false
   },
   "outputs": [
    {
     "data": {
      "text/plain": [
       "(2015, 5)     3439\n",
       "(2015, 2)     1942\n",
       "(2015, 4)     1920\n",
       "(2013, 9)     1765\n",
       "(2015, 3)     1537\n",
       "(2013, 10)    1206\n",
       "(2013, 11)     957\n",
       "(2015, 1)      868\n",
       "(2014, 2)      505\n",
       "(2014, 1)      360\n",
       "(2014, 12)     351\n",
       "(2014, 10)     328\n",
       "(2014, 5)      320\n",
       "(2014, 11)     305\n",
       "(2014, 4)      305\n",
       "(2014, 3)      280\n",
       "(2013, 12)     252\n",
       "(2013, 8)      251\n",
       "(2014, 9)      170\n",
       "(2014, 8)       91\n",
       "(2014, 6)       87\n",
       "(2014, 7)       59\n",
       "(2013, 7)        1\n",
       "dtype: int64"
      ]
     },
     "execution_count": 16,
     "metadata": {},
     "output_type": "execute_result"
    }
   ],
   "source": [
    "# date distribution\n",
    "import dateutil.parser\n",
    "s = df.created.apply(dateutil.parser.parse).apply(lambda d: (d.year, d.month)).value_counts()\n",
    "s"
   ]
  },
  {
   "cell_type": "code",
   "execution_count": 17,
   "metadata": {
    "collapsed": false
   },
   "outputs": [
    {
     "data": {
      "text/plain": [
       "<matplotlib.axes._subplots.AxesSubplot at 0x12947c7d0>"
      ]
     },
     "execution_count": 17,
     "metadata": {},
     "output_type": "execute_result"
    },
    {
     "data": {
      "image/png": "[encoded data removed]",
      "text/plain": [
       "<matplotlib.figure.Figure at 0x12947cc50>"
      ]
     },
     "metadata": {},
     "output_type": "display_data"
    }
   ],
   "source": [
    "(s.sort_index(ascending=True).plot(kind='bar', color='green', # x='year/month', y='# of annotations'\n",
    "                                  ))"
   ]
  },
  {
   "cell_type": "code",
   "execution_count": 18,
   "metadata": {
    "collapsed": false
   },
   "outputs": [
    {
     "data": {
      "text/plain": [
       "acct:judell@hypothes.is             751\n",
       "acct:juan@hypothes.is               738\n",
       "acct:dwhly@hypothes.is              551\n",
       "acct:tilgovi@hypothes.is            426\n",
       "acct:aculich@hypothes.is            415\n",
       "acct:dbeckstrom@hypothes.is         398\n",
       "acct:tsjordan@hypothes.is           285\n",
       "acct:jgmac1106@hypothes.is          284\n",
       "acct:Jmcclurken@hypothes.is         263\n",
       "acct:jeremydean@hypothes.is         259\n",
       "acct:bluebird_chaser@hypothes.is    251\n",
       "acct:rdhyee@hypothes.is             228\n",
       "acct:emahoney@hypothes.is           214\n",
       "acct:yukamuratani@hypothes.is       203\n",
       "acct:EP7@hypothes.is                187\n",
       "acct:mmebrady@hypothes.is           173\n",
       "acct:domgaiatheoroi@hypothes.is     171\n",
       "acct:memartone@hypothes.is          154\n",
       "acct:mitchellreber@hypothes.is      153\n",
       "acct:jillydreadful@hypothes.is      140\n",
       "acct:abumajid2013@hypothes.is       136\n",
       "acct:JackDougherty@hypothes.is      121\n",
       "acct:jhlenzi@hypothes.is            120\n",
       "acct:alex_hinerman@hypothes.is      116\n",
       "acct:ilam9@hypothes.is              109\n",
       "acct:linsyh@hypothes.is             104\n",
       "acct:almereyda@hypothes.is          102\n",
       "acct:tilliemcinnis@hypothes.is      100\n",
       "acct:mdvfunes@hypothes.is            96\n",
       "acct:JakeHartnell@hypothes.is        95\n",
       "                                   ... \n",
       "acct:manup@hypothes.is                1\n",
       "acct:IanCyShipman@hypothes.is         1\n",
       "acct:deanrgifford@hypothes.is         1\n",
       "acct:alv@hypothes.is                  1\n",
       "acct:Duk3Us3r@hypothes.is             1\n",
       "acct:corti@hypothes.is                1\n",
       "acct:ridermansb@hypothes.is           1\n",
       "acct:20obradovics@hypothes.is         1\n",
       "acct:W3NTZY@hypothes.is               1\n",
       "acct:andrera3@hypothes.is             1\n",
       "acct:murewa@hypothes.is               1\n",
       "acct:salimismail@hypothes.is          1\n",
       "acct:aron@stage.hypothes.is           1\n",
       "acct:ramelung81@hypothes.is           1\n",
       "acct:vieracke@hypothes.is             1\n",
       "acct:Enno@hypothes.is                 1\n",
       "acct:chrissaad@hypothes.is            1\n",
       "acct:christoffer@hypothes.is          1\n",
       "acct:suzanne.jenkins@hypothes.is      1\n",
       "acct:Snazster@hypothes.is             1\n",
       "acct:steven2358@hypothes.is           1\n",
       "acct:neaj@hypothes.is                 1\n",
       "acct:shrewdape@hypothes.is            1\n",
       "acct:csouthey@hypothes.is             1\n",
       "acct:eknowlton@hypothes.is            1\n",
       "acct:axyz@hypothes.is                 1\n",
       "acct:smurtagh@hypothes.is             1\n",
       "acct:pagrawal7@hypothes.is            1\n",
       "acct:blake@hypothes.is                1\n",
       "acct:art@hypothes.is                  1\n",
       "dtype: int64"
      ]
     },
     "execution_count": 18,
     "metadata": {},
     "output_type": "execute_result"
    }
   ],
   "source": [
    "df.user.value_counts()"
   ]
  },
  {
   "cell_type": "code",
   "execution_count": 19,
   "metadata": {
    "collapsed": false
   },
   "outputs": [
    {
     "data": {
      "text/plain": [
       "                                      1708\n",
       "caseyboyle.net                        1224\n",
       "via.hypothes.is                       1110\n",
       "rhetoric.eserver.org                   952\n",
       "www.perseus.tufts.edu                  941\n",
       "tkbr.ccsp.sfu.ca                       753\n",
       "sosol.perseids.org                     609\n",
       "hypothes.is                            528\n",
       "shakespeare.mit.edu                    517\n",
       "umwblogs.org                           251\n",
       "www.nytimes.com                        226\n",
       "scalar.usc.edu                         210\n",
       "gap2.alexandriaarchive.org             161\n",
       "www.transmography.net                  150\n",
       "github.com                             143\n",
       "courses.candelalearning.com            123\n",
       "www.shuttleworthfoundation.org         118\n",
       "dohistory.org                          114\n",
       "www9.georgetown.edu                    112\n",
       "en.wikipedia.org                       108\n",
       "archive.stsci.edu                       85\n",
       "cs231n.github.io                        85\n",
       "jonudell.net                            77\n",
       "wiki.shuttleworthfoundation.org         72\n",
       "epubjs-reader.appspot.com               71\n",
       "courses.ischool.berkeley.edu            69\n",
       "quod.lib.umich.edu                      68\n",
       "www.scribd.com                          66\n",
       "equimauves.wordpress.com                63\n",
       "test.langsci-press.org                  61\n",
       "                                      ... \n",
       "openspace.sfmoma.org                     1\n",
       "www.learnsmartsystems.com                1\n",
       "www.kickstarter.com                      1\n",
       "www.msnbc.com                            1\n",
       "superuser.com                            1\n",
       "www.elasticsearch.org                    1\n",
       "erichoefler.com                          1\n",
       "old.thepund.it                           1\n",
       "riscv.org                                1\n",
       "tiddlywiki.abego-software.de             1\n",
       "www.drugscience.org.uk                   1\n",
       "kotaku.com                               1\n",
       "onedio.com                               1\n",
       "b.hatena.ne.jp                           1\n",
       "implanthub.digital-results.com           1\n",
       "waxy.org                                 1\n",
       "www.fastcolabs.com                       1\n",
       "cgscholar.com                            1\n",
       "docserv.uni-duesseldorf.de               1\n",
       "nsfcac.rutgers.edu                       1\n",
       "books.google.it                          1\n",
       "www.policymic.com                        1\n",
       "www.martineve.com                        1\n",
       "www.infoq.com                            1\n",
       "www.goodreads.com                        1\n",
       "gingkoapp.com                            1\n",
       "ebpextentiabi.ap1.visual.force.com       1\n",
       "saucelabs.com                            1\n",
       "gdz.sub.uni-goettingen.de                1\n",
       "opengovfoundation.org                    1\n",
       "dtype: int64"
      ]
     },
     "execution_count": 19,
     "metadata": {},
     "output_type": "execute_result"
    }
   ],
   "source": [
    "df.uri.apply(lambda url: urlparse(url)[1]).value_counts()"
   ]
  },
  {
   "cell_type": "code",
   "execution_count": 20,
   "metadata": {
    "collapsed": false
   },
   "outputs": [
    {
     "data": {
      "text/plain": [
       "http://shakespeare.mit.edu/macbeth/full.html                                                                                                     516\n",
       "http://caseyboyle.net/3860/readings/gorgias.html                                                                                                 267\n",
       "http://caseyboyle.net/3860/readings/antidosis.html                                                                                               227\n",
       "http://caseyboyle.net/3860/readings/nietzsche.html                                                                                               204\n",
       "http://sosol.perseids.org/sosol/publications/12078/epi_cts_identifiers/15840/preview                                                             171\n",
       "http://sosol.perseids.org/sosol/publications/12054/epi_cts_identifiers/15800/preview                                                             168\n",
       "http://caseyboyle.net/3860/readings/dissoi.html                                                                                                  158\n",
       "urn:x-pdf:8236b0347d46e5f2cbe71afbdcfbfe43                                                                                                       157\n",
       "http://caseyboyle.net/3860/readings/against.html                                                                                                 144\n",
       "http://caseyboyle.net/3860/readings/ramus.html                                                                                                   140\n",
       "urn:x-pdf:a1c31a3c975c3d90ca0ea299760f1b0                                                                                                        125\n",
       "http://sosol.perseids.org/sosol/publications/12053/epi_cts_identifiers/15797/preview                                                             120\n",
       "http://www.perseus.tufts.edu/hopper/text?doc=Perseus:text:1999.04.0104:entry=romulus-bio-1                                                       115\n",
       "https://hypothes.is/welcome                                                                                                                      112\n",
       "http://www9.georgetown.edu/faculty/jod/augustine/ddc4.html                                                                                       112\n",
       "http://www.shuttleworthfoundation.org/application-pointers/                                                                                      103\n",
       "urn:x-pdf:158eb3cca6a6ea2c642d89f9c6d2dc9                                                                                                         95\n",
       "http://rhetoric.eserver.org/aristotle/oneindex.html                                                                                               93\n",
       "http://www.perseus.tufts.edu/hopper/text?doc=Perseus:text:1999.04.0104:entry=agamemnon-bio-1                                                      86\n",
       "http://caseyboyle.net/3860/readings/encomium.html                                                                                                 84\n",
       "http://rhetoric.eserver.org/aristotle/rhet1-1.html                                                                                                77\n",
       "http://sosol.perseids.org/sosol/publications/12050/epi_cts_identifiers/15792/preview                                                              76\n",
       "http://www.perseus.tufts.edu/hopper/text?doc=Perseus:text:1999.04.0104:entry=hector-bio-1                                                         70\n",
       "https://via.hypothes.is/http://b.pagekite.me/blog/2015-04-27_Roadmap_to_v1.html                                                                   64\n",
       "https://equimauves.wordpress.com/2014/06/14/petites-notes-sur-lappropriation-culturelle/#                                                         63\n",
       "https://via.hypothes.is/http://blogs.kqed.org/education/2015/04/24/what-is-the-value-of-a-high-school-diploma/                                    62\n",
       "https://via.hypothes.is/http://www.pbs.org/newshour/rundown/images-worst-drought-california-history/                                              62\n",
       "http://www.democracynow.org/es/blog/2014/7/11/hablamos_con_la_artista_chilena_ana?skip_mobile=1#                                                  60\n",
       "http://www.perseus.tufts.edu/hopper/text?doc=Perseus:text:1999.04.0104:entry=oedipus-bio-1                                                        59\n",
       "http://www.perseus.tufts.edu/hopper/text?doc=Perseus:text:1999.04.0104:entry=ajax-bio-1                                                           59\n",
       "                                                                                                                                                ... \n",
       "http://www.niso.org/topics/tl/altmetrics_initiative/agenda_sanfran                                                                                 1\n",
       "https://via.hypothes.is/h/http://m.youthvoices.net/site/youthvoices/default?url=http://youthvoices.net/discussion/death-latasha-harlin             1\n",
       "http://mtm.cba.mit.edu/                                                                                                                            1\n",
       "http://www.perseus.tufts.edu/hopper/text?doc=Perseus:text:1999.01.0199#                                                                            1\n",
       "http://matt.might.net/articles/productivity-tips-hints-hacks-tricks-for-grad-students-academics/                                                   1\n",
       "http://www.lothar.com/blog/48-remote-entropy/                                                                                                      1\n",
       "https://courses.candelalearning.com/masterymarketing1xngcxmaster/chapter/why-it-matters-2/                                                         1\n",
       "http://www.mna.inah.gob.mx/coleccion/explora.html                                                                                                  1\n",
       "http://localhost:8080/demo/moby-dick/OPS/epigraph_001.xhtml                                                                                        1\n",
       "blob:http://localhost/5589449a-61e8-4fb0-a99c-54b92854dc5d                                                                                         1\n",
       "http://www.douban.com/                                                                                                                             1\n",
       "http://hapgood.us/2014/06/20/smallest-federated-wiki-as-a-universal-json-canvas/                                                                   1\n",
       "http://www.snowsoftware.com/int                                                                                                                    1\n",
       "http://epress.trincoll.edu/ontheline2015/chapter/competing-for-upper-class-families/#                                                              1\n",
       "https://via.hypothes.is/https://www.aids.gov/hiv-aids-basics/staying-healthy-with-hiv-aids/taking-care-of-yourself/nutrition-and-food-safety/      1\n",
       "http://developers.imsglobal.org/phpcode.html                                                                                                       1\n",
       "http://unix.stackexchange.com/questions/6279/on-the-fly-monitoring-http-requests-on-a-network-interface                                            1\n",
       "https://via.hypothes.is/https://hypothes.is/new-about-page/                                                                                        1\n",
       "https://www.ableton.com/en/cart/                                                                                                                   1\n",
       "http://www.publiconsulting.com/wordpress/damaboba/chapter/la-dama-boba/                                                                            1\n",
       "blob:http://192.168.0.114/7c203089-04dd-4a3b-8c16-de9b1cf9c3b5                                                                                     1\n",
       "http://opentextbc.ca/teachinginadigitalage/chapter/9-3-the-sections-model-ease-of-use/                                                             1\n",
       "http://www.johanneswilm.org/2014/09/26/why-ello-co-is-a-bad-idea/                                                                                  1\n",
       "https://via.hypothes.is/h/http://www.odt.co.nz/                                                                                                    1\n",
       "http://localhost:3000/idea/59G6r2wzRppDXGgkC                                                                                                       1\n",
       "https://www.facebook.com/WestEndFarmersMarketSantaRosa                                                                                             1\n",
       "https://hbr.org/2015/04/the-best-presentations-are-tailored-to-the-audience                                                                        1\n",
       "http://www.edjustice.org/motion-dismiss-denial/                                                                                                    1\n",
       "https://www.blueinteractiveagency.com/seo-blog/2014/02/google-and-otas-the-bad-the-ugly-and-the-good/                                              1\n",
       "urn:x-pdf:13ca435fe5de8aac74e5e9a840509e75                                                                                                         1\n",
       "dtype: int64"
      ]
     },
     "execution_count": 20,
     "metadata": {},
     "output_type": "execute_result"
    }
   ],
   "source": [
    "# most annotated web pages\n",
    "df.uri.value_counts()"
   ]
  },
  {
   "cell_type": "code",
   "execution_count": 21,
   "metadata": {
    "collapsed": false
   },
   "outputs": [],
   "source": [
    "# look for pages annotated as part of climatefeedback.org\n",
    "# http://climatefeedback.org/members/early-participants.html\n",
    "\n",
    "climatefeedback_members = ['karmour', 'Alexis_b', 'drchavas', 'jgdwyer', 'emanuel', 'ed_hawkins', 'Dkambo',\n",
    "                            'aklocker', 'james_kossin', 'jmlauderdale', 'mashayek', 's_perkins',\n",
    "                            'andypitman', 'hramsay','kevenroy', 'martysingh','alexis.tantet',\n",
    "                            'emvincent','bmv','DonWuebbles','aalpert']\n",
    "clf_accts = [\"acct:{user}@hypothes.is\".format(user=user) for user in climatefeedback_members] "
   ]
  },
  {
   "cell_type": "code",
   "execution_count": 23,
   "metadata": {
    "collapsed": false
   },
   "outputs": [
    {
     "data": {
      "text/plain": [
       "http://online.wsj.com/articles/climate-science-is-not-settled-1411143565                                                                                                                                       42\n",
       "http://www.wsj.com/articles/bjorn-lomborg-the-alarming-thing-about-climate-alarmism-1422832462                                                                                                                 21\n",
       "http://www.nytimes.com/2015/01/17/science/earth/2014-was-hottest-year-on-record-surpassing-2010.html                                                                                                           13\n",
       "https://via.hypothes.is/h/http://mashable.com/2015/03/16/vanuatu-cyclone-pam-global-warming/                                                                                                                    8\n",
       "http://www.forbes.com/sites/robertbradley/2014/12/01/doubling-down-on-climate-alarmism/                                                                                                                         6\n",
       "http://online.wsj.com/news/articles/SB10001424127887324549004579067532485712464                                                                                                                                 6\n",
       "http://www.nytimes.com/2015/01/17/science/earth/2014-was-hottest-year-on-record-surpassing-2010.html?_r=0                                                                                                       4\n",
       "http://www.forbes.com/sites/robertbradley/2014/12/01/doubling-down-on-climate-alarmism/2/                                                                                                                       4\n",
       "http://www.forbes.com/sites/realspin/2014/03/31/the-ipccs-latest-report-deliberately-excludes-and-misrepresents-important-climate-science/                                                                      4\n",
       "http://www.dailymail.co.uk/sciencetech/article-2738653/Stunning-satellite-images-summer-ice-cap-thicker-covers-1-7million-square-kilometres-MORE-2-years-ago-despite-Al-Gore-s-prediction-ICE-FREE-now.html     2\n",
       "https://via.hypothes.is/http://www.cnn.com/2015/05/05/opinions/sutter-sea-level-climate/                                                                                                                        2\n",
       "http://climatefeedback.org/                                                                                                                                                                                     2\n",
       "urn:x-pdf:475ad275a2c51af87cc9b172665a9f1                                                                                                                                                                       2\n",
       "http://oceans.mit.edu/featured-stories/climate-feedback                                                                                                                                                         2\n",
       "urn:x-pdf:2f533dfa636ae7996421ff2798ca5ab                                                                                                                                                                       1\n",
       "http://www.nbcnews.com/politics/congress/senate-votes-98-1-climate-change-not-hoax-n290831                                                                                                                      1\n",
       "https://hypothes.is/alpha/                                                                                                                                                                                      1\n",
       "urn:x-pdf:c2c21044685af3732c6448e6b550bb25                                                                                                                                                                      1\n",
       "[object URL]                                                                                                                                                                                                    1\n",
       "http://www.cnn.com/2015/05/05/opinions/sutter-sea-level-climate/                                                                                                                                                1\n",
       "urn:x-pdf:95562c94e530501e4ec9df612c8cc                                                                                                                                                                         1\n",
       "http://www.salon.com/2014/12/04/new_mit_app_lets_scientists_fact_check_the_media_on_climate/                                                                                                                    1\n",
       "http://www.forbes.com/sites/realspin/2014/03/31/the-ipccs-latest-report-deliberately-excludes-and-misrepresents-important-climate-science/print/                                                                1\n",
       "http://www.forbes.com/sites/eriksherman/2014/07/15/the-latest-climate-change-denial-fact-twisting/                                                                                                              1\n",
       "http://www.nytimes.com/2015/01/17/science/earth/2014-was-hottest-year-on-record-surpassing-2010.html?_r=2                                                                                                       1\n",
       "https://www.facebook.com/manunymous                                                                                                                                                                             1\n",
       "https://hypothes.is/press/                                                                                                                                                                                      1\n",
       "http://www.forbes.com/sites/robertbradley/2014/12/01/doubling-down-on-climate-alarmism/3/                                                                                                                       1\n",
       "http://www.climate-skeptic.com/category/ohter-effects-of-co2                                                                                                                                                    1\n",
       "http://mashable.com/2015/03/16/vanuatu-cyclone-pam-global-warming/                                                                                                                                              1\n",
       "dtype: int64"
      ]
     },
     "execution_count": 23,
     "metadata": {},
     "output_type": "execute_result"
    }
   ],
   "source": [
    "clf_annots = df[df.user.isin(clf_accts)]\n",
    "clf_annots.uri.value_counts()"
   ]
  },
  {
   "cell_type": "code",
   "execution_count": null,
   "metadata": {
    "collapsed": true
   },
   "outputs": [],
   "source": []
  }
 ],
 "metadata": {
  "kernelspec": {
   "display_name": "Python 2",
   "language": "python",
   "name": "python2"
  },
  "language_info": {
   "codemirror_mode": {
    "name": "ipython",
    "version": 2
   },
   "file_extension": ".py",
   "mimetype": "text/x-python",
   "name": "python",
   "nbconvert_exporter": "python",
   "pygments_lexer": "ipython2",
   "version": "2.7.9"
  }
 },
 "nbformat": 4,
 "nbformat_minor": 0
}
